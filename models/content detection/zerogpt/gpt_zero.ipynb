{
 "cells": [
  {
   "cell_type": "code",
   "execution_count": 1,
   "id": "a5c97b41",
   "metadata": {},
   "outputs": [],
   "source": [
    "import http.client\n"
   ]
  },
  {
   "cell_type": "code",
   "execution_count": null,
   "id": "b6a25499",
   "metadata": {},
   "outputs": [
    {
     "name": "stdout",
     "output_type": "stream",
     "text": [
      "{\"success\":true,\"code\":200,\"message\":\"detection result passed to proxy\",\"data\":{\"sentences\":[],\"isHuman\":100,\"additional_feedback\":\"\",\"h\":[],\"hi\":[],\"textWords\":75,\"aiWords\":0,\"fakePercentage\":0.0,\"specialIndexes\":[],\"specialSentences\":[],\"originalParagraph\":\"data science is a very wiedly known tech field that is very popular in tech. it contains a lot of tools and skills such as data analysis, python programming, Databases, BI tools, machine learning, deep learning (neural networks, NLP, CV, Transformers). data science is very huge field that you cannot have an estimated time to finish it because every single day a new model is released which could make a big difference in the field\\n\",\"feedback\":\"Your Text is Human Written\",\"input_text\":\"data science is a very wiedly known tech field that is very popular in tech. it contains a lot of tools and skills such as data analysis, python programming, Databases, BI tools, machine learning, deep learning (neural networks, NLP, CV, Transformers). data science is very huge field that you cannot have an estimated time to finish it because every single day a new model is released which could make a big difference in the field\\n\",\"detected_language\":\"en\"}}\n"
     ]
    }
   ],
   "source": [
    "import requests\n",
    "import json\n",
    "\n",
    "url = \"https://api.zerogpt.com/api/detect/detectText\"\n",
    "\n",
    "payload = json.dumps({\n",
    "  \"input_text\": \"\"\"data science is a very wiedly known tech field that is very popular in tech. it contains a lot of tools and skills such as data analysis, python programming, Databases, BI tools, machine learning, deep learning (neural networks, NLP, CV, Transformers). data science is very huge field that you cannot have an estimated time to finish it because every single day a new model is released which could make a big difference in the field\"\"\"\n",
    "})\n",
    "headers = {\n",
    "  'ApiKey': '2e72df07-7f53-4221-aa17-ebec0fa89ec5',\n",
    "  'Content-Type': 'application/json'\n",
    "}\n",
    "\n",
    "response = requests.request(\"POST\", url, headers=headers, data=payload)\n",
    "\n",
    "print(response.text)\n"
   ]
  },
  {
   "cell_type": "code",
   "execution_count": null,
   "id": "9632fcab",
   "metadata": {},
   "outputs": [
    {
     "name": "stdout",
     "output_type": "stream",
     "text": [
      "{\n",
      "    \"success\": true,\n",
      "    \"code\": 200,\n",
      "    \"message\": \"detection result passed to proxy\",\n",
      "    \"data\": {\n",
      "        \"sentences\": [],\n",
      "        \"isHuman\": 100,\n",
      "        \"additional_feedback\": \"\",\n",
      "        \"h\": [],\n",
      "        \"hi\": [],\n",
      "        \"textWords\": 75,\n",
      "        \"aiWords\": 0,\n",
      "        \"fakePercentage\": 0.0,\n",
      "        \"specialIndexes\": [],\n",
      "        \"specialSentences\": [],\n",
      "        \"originalParagraph\": \"data science is a very wiedly known tech field that is very popular in tech. it contains a lot of tools and skills such as data analysis, python programming, Databases, BI tools, machine learning, deep learning (neural networks, NLP, CV, Transformers). data science is very huge field that you cannot have an estimated time to finish it because every single day a new model is released which could make a big difference in the field\\n\",\n",
      "        \"feedback\": \"Your Text is Human Written\",\n",
      "        \"input_text\": \"data science is a very wiedly known tech field that is very popular in tech. it contains a lot of tools and skills such as data analysis, python programming, Databases, BI tools, machine learning, deep learning (neural networks, NLP, CV, Transformers). data science is very huge field that you cannot have an estimated time to finish it because every single day a new model is released which could make a big difference in the field\\n\",\n",
      "        \"detected_language\": \"en\"\n",
      "    }\n",
      "}\n"
     ]
    }
   ],
   "source": [
    "# convert response to json\n",
    "response_json = response.json()\n",
    "print(json.dumps(response_json, indent=4))"
   ]
  },
  {
   "cell_type": "code",
   "execution_count": null,
   "id": "06be6620",
   "metadata": {},
   "outputs": [
    {
     "name": "stdout",
     "output_type": "stream",
     "text": [
      "isHuman: 100\n",
      "isAI: 0\n"
     ]
    }
   ],
   "source": [
    "result = response_json.get('data')\n",
    "# extract the isHuman field from the result\n",
    "is_human = result.get('isHuman')\n",
    "\n",
    "print(\"isHuman:\", is_human)\n",
    "print(\"isAI:\", 100 - is_human)"
   ]
  }
 ],
 "metadata": {
  "kernelspec": {
   "display_name": "bert_env",
   "language": "python",
   "name": "python3"
  },
  "language_info": {
   "codemirror_mode": {
    "name": "ipython",
    "version": 3
   },
   "file_extension": ".py",
   "mimetype": "text/x-python",
   "name": "python",
   "nbconvert_exporter": "python",
   "pygments_lexer": "ipython3",
   "version": "3.9.21"
  }
 },
 "nbformat": 4,
 "nbformat_minor": 5
}
