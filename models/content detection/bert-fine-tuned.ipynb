{
 "cells": [
  {
   "cell_type": "code",
   "execution_count": null,
   "metadata": {
    "execution": {
     "iopub.execute_input": "2025-04-18T15:24:51.965140Z",
     "iopub.status.busy": "2025-04-18T15:24:51.964907Z",
     "iopub.status.idle": "2025-04-18T15:25:23.728301Z",
     "shell.execute_reply": "2025-04-18T15:25:23.727577Z",
     "shell.execute_reply.started": "2025-04-18T15:24:51.965120Z"
    },
    "trusted": true
   },
   "outputs": [],
   "source": [
    "from datasets import load_dataset\n",
    "from transformers import (\n",
    "    AutoTokenizer,\n",
    "    AutoModelForSequenceClassification,\n",
    "    TrainingArguments,\n",
    "    Trainer,\n",
    "    EarlyStoppingCallback,\n",
    "    BitsAndBytesConfig,\n",
    "    TFAutoModel\n",
    ")\n",
    "import torch\n",
    "import numpy as np\n",
    "import pandas as pd\n",
    "import matplotlib.pyplot as plt\n",
    "import seaborn as sns\n",
    "from sklearn.metrics import accuracy_score, precision_recall_fscore_support\n",
    "\n",
    "# Connect to GPU (make sure you've selected GPU in Colab)\n",
    "assert torch.cuda.is_available(), \"Change runtime type to GPU!\"\n",
    "device = torch.device(\"cuda\")\n",
    "print(f\"Using device: {device}\")"
   ]
  },
  {
   "cell_type": "code",
   "execution_count": null,
   "metadata": {
    "execution": {
     "iopub.execute_input": "2025-04-18T15:25:23.731991Z",
     "iopub.status.busy": "2025-04-18T15:25:23.731740Z",
     "iopub.status.idle": "2025-04-18T15:25:27.621840Z",
     "shell.execute_reply": "2025-04-18T15:25:27.621097Z",
     "shell.execute_reply.started": "2025-04-18T15:25:23.731964Z"
    },
    "trusted": true
   },
   "outputs": [],
   "source": [
    "model = TFAutoModel.from_pretrained(\"bert-base-uncased\") #BERT Base model with 110M Parameter and 12 encoder layers"
   ]
  },
  {
   "cell_type": "code",
   "execution_count": null,
   "metadata": {
    "execution": {
     "iopub.execute_input": "2025-04-18T15:25:27.623428Z",
     "iopub.status.busy": "2025-04-18T15:25:27.623174Z",
     "iopub.status.idle": "2025-04-18T15:25:28.937228Z",
     "shell.execute_reply": "2025-04-18T15:25:28.936627Z",
     "shell.execute_reply.started": "2025-04-18T15:25:27.623400Z"
    },
    "trusted": true
   },
   "outputs": [],
   "source": [
    "tokenizer = AutoTokenizer.from_pretrained(\"bert-base-uncased\")"
   ]
  },
  {
   "cell_type": "code",
   "execution_count": null,
   "metadata": {
    "execution": {
     "iopub.execute_input": "2025-04-18T15:25:28.938519Z",
     "iopub.status.busy": "2025-04-18T15:25:28.938265Z",
     "iopub.status.idle": "2025-04-18T15:25:28.948192Z",
     "shell.execute_reply": "2025-04-18T15:25:28.947580Z",
     "shell.execute_reply.started": "2025-04-18T15:25:28.938499Z"
    },
    "trusted": true
   },
   "outputs": [],
   "source": [
    "inputs = tokenizer('Hello world')\n",
    "inputs"
   ]
  },
  {
   "cell_type": "code",
   "execution_count": null,
   "metadata": {
    "execution": {
     "iopub.execute_input": "2025-04-18T15:25:29.365285Z",
     "iopub.status.busy": "2025-04-18T15:25:29.364906Z",
     "iopub.status.idle": "2025-04-18T15:25:40.815306Z",
     "shell.execute_reply": "2025-04-18T15:25:40.814690Z",
     "shell.execute_reply.started": "2025-04-18T15:25:29.365259Z"
    },
    "trusted": true
   },
   "outputs": [],
   "source": [
    "# Load the dataset\n",
    "dataset = load_dataset(\"Jinyan1/COLING_2025_MGT_en\")\n",
    "print(dataset)"
   ]
  },
  {
   "cell_type": "code",
   "execution_count": null,
   "metadata": {
    "execution": {
     "iopub.execute_input": "2025-04-18T15:25:40.816554Z",
     "iopub.status.busy": "2025-04-18T15:25:40.816279Z",
     "iopub.status.idle": "2025-04-18T15:25:40.821397Z",
     "shell.execute_reply": "2025-04-18T15:25:40.820864Z",
     "shell.execute_reply.started": "2025-04-18T15:25:40.816535Z"
    },
    "trusted": true
   },
   "outputs": [],
   "source": [
    "dataset"
   ]
  },
  {
   "cell_type": "code",
   "execution_count": null,
   "metadata": {
    "execution": {
     "iopub.execute_input": "2025-04-18T15:25:40.822299Z",
     "iopub.status.busy": "2025-04-18T15:25:40.822090Z",
     "iopub.status.idle": "2025-04-18T15:25:40.836078Z",
     "shell.execute_reply": "2025-04-18T15:25:40.835487Z",
     "shell.execute_reply.started": "2025-04-18T15:25:40.822284Z"
    },
    "trusted": true
   },
   "outputs": [],
   "source": [
    "def tokenize(batch):\n",
    "    return tokenizer(\n",
    "        batch['text'],\n",
    "        padding='max_length',\n",
    "        truncation=True,\n",
    "        max_length=256,\n",
    "        return_tensors=\"pt\"\n",
    "    )"
   ]
  },
  {
   "cell_type": "code",
   "execution_count": null,
   "metadata": {
    "execution": {
     "iopub.execute_input": "2025-04-18T15:25:40.838041Z",
     "iopub.status.busy": "2025-04-18T15:25:40.837810Z",
     "iopub.status.idle": "2025-04-18T15:32:26.894079Z",
     "shell.execute_reply": "2025-04-18T15:32:26.893358Z",
     "shell.execute_reply.started": "2025-04-18T15:25:40.838024Z"
    },
    "trusted": true
   },
   "outputs": [],
   "source": [
    "# Process with maximum efficiency\n",
    "dataset_encoded = dataset.map(\n",
    "    tokenize,\n",
    "    batched=True,\n",
    "    batch_size=1000,\n",
    "    num_proc=4,\n",
    "    remove_columns=['text']\n",
    ")"
   ]
  },
  {
   "cell_type": "code",
   "execution_count": null,
   "metadata": {
    "execution": {
     "iopub.execute_input": "2025-04-18T15:32:26.895304Z",
     "iopub.status.busy": "2025-04-18T15:32:26.895094Z",
     "iopub.status.idle": "2025-04-18T15:32:26.900814Z",
     "shell.execute_reply": "2025-04-18T15:32:26.900118Z",
     "shell.execute_reply.started": "2025-04-18T15:32:26.895283Z"
    },
    "trusted": true
   },
   "outputs": [],
   "source": [
    "dataset_encoded"
   ]
  },
  {
   "cell_type": "code",
   "execution_count": null,
   "metadata": {
    "execution": {
     "iopub.execute_input": "2025-04-18T15:32:26.902035Z",
     "iopub.status.busy": "2025-04-18T15:32:26.901763Z",
     "iopub.status.idle": "2025-04-18T15:32:27.510782Z",
     "shell.execute_reply": "2025-04-18T15:32:27.510204Z",
     "shell.execute_reply.started": "2025-04-18T15:32:26.902013Z"
    },
    "trusted": true
   },
   "outputs": [],
   "source": [
    "train_tf_dataset = dataset_encoded['train'].to_tf_dataset(\n",
    "    columns=['input_ids', 'attention_mask', 'token_type_ids'],\n",
    "    label_cols=['label'],\n",
    "    shuffle=True,\n",
    "    batch_size=32,\n",
    ")\n",
    "\n",
    "val_tf_dataset = dataset_encoded['dev'].to_tf_dataset(\n",
    "    columns=['input_ids', 'attention_mask', 'token_type_ids'],\n",
    "    label_cols=['label'],\n",
    "    shuffle=False,\n",
    "    batch_size=32,\n",
    ")"
   ]
  },
  {
   "cell_type": "code",
   "execution_count": null,
   "metadata": {
    "execution": {
     "iopub.execute_input": "2025-04-18T15:39:14.128967Z",
     "iopub.status.busy": "2025-04-18T15:39:14.128221Z",
     "iopub.status.idle": "2025-04-18T15:39:14.133725Z",
     "shell.execute_reply": "2025-04-18T15:39:14.132823Z",
     "shell.execute_reply.started": "2025-04-18T15:39:14.128934Z"
    },
    "trusted": true
   },
   "outputs": [],
   "source": [
    "import tensorflow as tf\n",
    "class BERTForClassification(tf.keras.Model):  # Fixed class name typo\n",
    "    def __init__(self, bert_model, num_classes):  # Fixed __init__ syntax\n",
    "        super().__init__()\n",
    "        self.bert = bert_model\n",
    "        self.fc = tf.keras.layers.Dense(num_classes, activation='softmax')  # Fixed to layers (not layer)\n",
    "    def call(self, inputs):\n",
    "        # Assuming inputs is a dict containing input_ids, attention_mask, and token_type_ids\n",
    "        x = self.bert(inputs)[1]  # This might need adjustment based on the actual output structure\n",
    "        return self.fc(x)"
   ]
  },
  {
   "cell_type": "code",
   "execution_count": null,
   "metadata": {
    "execution": {
     "iopub.execute_input": "2025-04-18T15:39:14.982936Z",
     "iopub.status.busy": "2025-04-18T15:39:14.982341Z",
     "iopub.status.idle": "2025-04-18T15:39:14.999546Z",
     "shell.execute_reply": "2025-04-18T15:39:14.998863Z",
     "shell.execute_reply.started": "2025-04-18T15:39:14.982915Z"
    },
    "trusted": true
   },
   "outputs": [],
   "source": [
    "# Create and compile the classifier\n",
    "classifier = BERTForClassification(model, num_classes=2)\n",
    "classifier.compile(optimizer=tf.keras.optimizers.Adam(learning_rate=1e-5),\n",
    "                   loss=tf.keras.losses.SparseCategoricalCrossentropy(),\n",
    "                   metrics=['accuracy'])"
   ]
  },
  {
   "cell_type": "code",
   "execution_count": null,
   "metadata": {
    "execution": {
     "iopub.execute_input": "2025-04-18T15:39:24.309839Z",
     "iopub.status.busy": "2025-04-18T15:39:24.309183Z"
    },
    "trusted": true
   },
   "outputs": [],
   "source": [
    "# Train the model\n",
    "history = classifier.fit(\n",
    "    train_tf_dataset,\n",
    "    validation_data=val_tf_dataset,\n",
    "    epochs=3,  # You may want to adjust this\n",
    "    callbacks=[\n",
    "        tf.keras.callbacks.EarlyStopping(monitor='val_loss', patience=3),\n",
    "        tf.keras.callbacks.ModelCheckpoint('best_model.h5', monitor='val_accuracy', save_best_only=True)\n",
    "    ]\n",
    ")"
   ]
  },
  {
   "cell_type": "code",
   "execution_count": null,
   "metadata": {
    "execution": {
     "iopub.status.busy": "2025-04-18T15:39:09.431428Z",
     "iopub.status.idle": "2025-04-18T15:39:09.431675Z",
     "shell.execute_reply": "2025-04-18T15:39:09.431580Z",
     "shell.execute_reply.started": "2025-04-18T15:39:09.431570Z"
    },
    "trusted": true
   },
   "outputs": [],
   "source": [
    "plt.figure(figsize=(12, 4))"
   ]
  },
  {
   "cell_type": "code",
   "execution_count": null,
   "metadata": {
    "execution": {
     "iopub.status.busy": "2025-04-18T15:39:09.433070Z",
     "iopub.status.idle": "2025-04-18T15:39:09.433364Z",
     "shell.execute_reply": "2025-04-18T15:39:09.433218Z",
     "shell.execute_reply.started": "2025-04-18T15:39:09.433208Z"
    },
    "trusted": true
   },
   "outputs": [],
   "source": [
    "history = classifier.fit(\n",
    "    train_tf_dataset,\n",
    "    validation_data=val_tf_dataset,\n",
    "    epochs=5,  # You may want to adjust this\n",
    "    callbacks=[\n",
    "        tf.keras.callbacks.EarlyStopping(monitor='val_loss', patience=3),\n",
    "        tf.keras.callbacks.ModelCheckpoint('best_model.h5', monitor='val_accuracy', save_best_only=True)\n",
    "    ]\n",
    ")\n",
    "\n",
    "# Plot training history\n",
    "plt.figure(figsize=(12, 4))\n",
    "\n",
    "# Plot accuracy\n",
    "plt.subplot(1, 2, 1)\n",
    "plt.plot(history.history['accuracy'])\n",
    "plt.plot(history.history['val_accuracy'])\n",
    "plt.title('Model Accuracy')\n",
    "plt.ylabel('Accuracy')\n",
    "plt.xlabel('Epoch')\n",
    "plt.legend(['Train', 'Validation'], loc='upper left')\n",
    "\n",
    "# Plot loss\n",
    "plt.subplot(1, 2, 2)\n",
    "plt.plot(history.history['loss'])\n",
    "plt.plot(history.history['val_loss'])\n",
    "plt.title('Model Loss')\n",
    "plt.ylabel('Loss')\n",
    "plt.xlabel('Epoch')\n",
    "plt.legend(['Train', 'Validation'], loc='upper left')\n",
    "\n",
    "plt.tight_layout()\n",
    "plt.show()"
   ]
  },
  {
   "cell_type": "code",
   "execution_count": null,
   "metadata": {
    "execution": {
     "iopub.status.busy": "2025-04-18T15:39:09.434613Z",
     "iopub.status.idle": "2025-04-18T15:39:09.434965Z",
     "shell.execute_reply": "2025-04-18T15:39:09.434801Z",
     "shell.execute_reply.started": "2025-04-18T15:39:09.434786Z"
    },
    "trusted": true
   },
   "outputs": [],
   "source": [
    "# # Evaluate on validation set\n",
    "# results = classifier.evaluate(val_tf_dataset)\n",
    "# print(f\"Validation Loss: {results[0]:.4f}\")\n",
    "# print(f\"Validation Accuracy: {results[1]:.4f}\")"
   ]
  }
 ],
 "metadata": {
  "kaggle": {
   "accelerator": "gpu",
   "dataSources": [],
   "dockerImageVersionId": 31011,
   "isGpuEnabled": true,
   "isInternetEnabled": true,
   "language": "python",
   "sourceType": "notebook"
  },
  "kernelspec": {
   "display_name": "bert_env",
   "language": "python",
   "name": "python3"
  },
  "language_info": {
   "codemirror_mode": {
    "name": "ipython",
    "version": 3
   },
   "file_extension": ".py",
   "mimetype": "text/x-python",
   "name": "python",
   "nbconvert_exporter": "python",
   "pygments_lexer": "ipython3",
   "version": "3.9.21"
  }
 },
 "nbformat": 4,
 "nbformat_minor": 4
}
