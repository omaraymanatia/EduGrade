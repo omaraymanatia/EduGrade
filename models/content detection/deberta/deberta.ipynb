{
 "cells": [
  {
   "cell_type": "code",
   "execution_count": 59,
   "id": "470dfbe4",
   "metadata": {},
   "outputs": [
    {
     "name": "stderr",
     "output_type": "stream",
     "text": [
      "Some weights of DebertaV2ForSequenceClassification were not initialized from the model checkpoint at OU-Advacheck/deberta-v3-base-daigenc-mgt1a and are newly initialized: ['classifier.bias', 'classifier.weight']\n",
      "You should probably TRAIN this model on a down-stream task to be able to use it for predictions and inference.\n",
      "Device set to use cuda:0\n"
     ]
    }
   ],
   "source": [
    "# Use a pipeline as a high-level helper\n",
    "from transformers import pipeline\n",
    "\n",
    "pipe = pipeline(\"text-classification\", model=\"OU-Advacheck/deberta-v3-base-daigenc-mgt1a\")"
   ]
  },
  {
   "cell_type": "code",
   "execution_count": 60,
   "id": "57a9a662",
   "metadata": {},
   "outputs": [
    {
     "name": "stderr",
     "output_type": "stream",
     "text": [
      "Some weights of DebertaV2ForSequenceClassification were not initialized from the model checkpoint at OU-Advacheck/deberta-v3-base-daigenc-mgt1a and are newly initialized: ['classifier.bias', 'classifier.weight']\n",
      "You should probably TRAIN this model on a down-stream task to be able to use it for predictions and inference.\n"
     ]
    }
   ],
   "source": [
    "# Load model directly\n",
    "from transformers import AutoTokenizer, AutoModelForSequenceClassification\n",
    "\n",
    "tokenizer = AutoTokenizer.from_pretrained(\"OU-Advacheck/deberta-v3-base-daigenc-mgt1a\")\n",
    "model = AutoModelForSequenceClassification.from_pretrained(\"OU-Advacheck/deberta-v3-base-daigenc-mgt1a\")"
   ]
  },
  {
   "cell_type": "code",
   "execution_count": 67,
   "id": "718611ff",
   "metadata": {},
   "outputs": [],
   "source": [
    "texts_to_test = [\n",
    "\"\"\"Taking pictures of objects in our own solar system is much more difficult than taking pictures of distant galaxies. This is because the objects in our solar system are much closer to us, so they appear smaller in the sky and are harder to see clearly. In addition, planets like Venus are covered in clouds, which makes it difficult to get a clear view of the surface.\\n\\nTo take a picture of Venus or any other planet, we need to use special telescopes that are designed to capture light from distant objects. These telescopes are usually much larger and more powerful than the ones we use to look at stars and galaxies, because they need to be able to see much finer details on the surface of the planet. Even with these powerful telescopes, it can still be difficult to get a clear view of the surface of a planet like Venus, because the clouds and other atmospheric conditions can block our view.\\n\\nSo, while it may be possible to get some close-up shots of Venus or other planets in our solar system, it is much more difficult than taking pictures of distant galaxies, which are much further away and easier to see clearly.\"\"\"\n",
    "]\n"
   ]
  },
  {
   "cell_type": "code",
   "execution_count": 68,
   "id": "5a4dcbd7",
   "metadata": {},
   "outputs": [],
   "source": [
    "inputs = tokenizer(texts_to_test, padding=True, truncation=True, return_tensors=\"pt\")"
   ]
  },
  {
   "cell_type": "code",
   "execution_count": 69,
   "id": "ac17b702",
   "metadata": {},
   "outputs": [],
   "source": [
    "import torch\n",
    "import numpy as np\n",
    "\n",
    "with torch.no_grad():\n",
    "    outputs = model(**inputs)\n",
    "    logits = outputs.logits.numpy()\n",
    "    # Apply softmax to get normalized probabilities that sum to 1\n",
    "    probabilities = np.exp(logits) / np.sum(np.exp(logits), axis=1, keepdims=True)\n",
    "\n",
    "human_prob, ai_prob = probabilities[0]\n",
    "# Convert to percentages\n",
    "human_percentage = human_prob * 100\n",
    "ai_percentage = ai_prob * 100"
   ]
  },
  {
   "cell_type": "code",
   "execution_count": 70,
   "id": "27fc2ae8",
   "metadata": {},
   "outputs": [
    {
     "name": "stdout",
     "output_type": "stream",
     "text": [
      "Probabilities (human, machine): 0.6608815 0.33911854\n"
     ]
    }
   ],
   "source": [
    "print(\"Probabilities (human, machine):\", human_prob, ai_prob)"
   ]
  },
  {
   "cell_type": "code",
   "execution_count": 73,
   "id": "99dc6330",
   "metadata": {},
   "outputs": [],
   "source": [
    "# Simple threshold for AI detection\n",
    "AI_THRESHOLD = 50.0  # threshold for AI classification\n",
    "\n",
    "# Calculate percentage difference\n",
    "percentage_diff = abs(ai_percentage - human_percentage)\n",
    "\n",
    "# Determine confidence level based on difference\n",
    "if percentage_diff <= 40:\n",
    "    confidence = \"Low\"\n",
    "elif percentage_diff <= 70:\n",
    "    confidence = \"Medium\"\n",
    "else:\n",
    "    confidence = \"High\"\n",
    "\n",
    "# Classification logic\n",
    "if ai_percentage >= AI_THRESHOLD:\n",
    "    label = \"AI\"\n",
    "else:\n",
    "    label = \"Human\"\n",
    "\n",
    "if confidence == \"Low\":\n",
    "    label = \"Uncertain but it is likely to be\" + \" \" + label"
   ]
  },
  {
   "cell_type": "code",
   "execution_count": 74,
   "id": "0fecf4f7",
   "metadata": {},
   "outputs": [
    {
     "name": "stdout",
     "output_type": "stream",
     "text": [
      "Detection Results\n",
      "----------------------------------------\n",
      "Human Probability: 66.1%\n",
      "AI Probability: 33.9%\n",
      "----------------------------------------\n",
      "Classification: Uncertain but it is likely to be Human\n",
      "Confidence: Low\n"
     ]
    }
   ],
   "source": [
    "print(f\"Detection Results\")\n",
    "print(f\"{'-'*40}\")\n",
    "print(f\"Human Probability: {human_percentage:.1f}%\")\n",
    "print(f\"AI Probability: {ai_percentage:.1f}%\")\n",
    "print(f\"{'-'*40}\")\n",
    "print(f\"Classification: {label}\")\n",
    "print(f\"Confidence: {confidence}\")"
   ]
  },
  {
   "cell_type": "code",
   "execution_count": null,
   "id": "642aa164",
   "metadata": {},
   "outputs": [],
   "source": []
  }
 ],
 "metadata": {
  "kernelspec": {
   "display_name": "bert_env",
   "language": "python",
   "name": "python3"
  },
  "language_info": {
   "codemirror_mode": {
    "name": "ipython",
    "version": 3
   },
   "file_extension": ".py",
   "mimetype": "text/x-python",
   "name": "python",
   "nbconvert_exporter": "python",
   "pygments_lexer": "ipython3",
   "version": "3.9.21"
  }
 },
 "nbformat": 4,
 "nbformat_minor": 5
}
