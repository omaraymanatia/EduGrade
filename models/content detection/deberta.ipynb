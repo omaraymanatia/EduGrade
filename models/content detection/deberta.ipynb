{
 "cells": [
  {
   "cell_type": "code",
   "execution_count": 2,
   "id": "470dfbe4",
   "metadata": {},
   "outputs": [
    {
     "name": "stderr",
     "output_type": "stream",
     "text": [
      "Some weights of DebertaV2ForSequenceClassification were not initialized from the model checkpoint at OU-Advacheck/deberta-v3-base-daigenc-mgt1a and are newly initialized: ['classifier.bias', 'classifier.weight']\n",
      "You should probably TRAIN this model on a down-stream task to be able to use it for predictions and inference.\n",
      "Device set to use cuda:0\n"
     ]
    }
   ],
   "source": [
    "# Use a pipeline as a high-level helper\n",
    "from transformers import pipeline\n",
    "\n",
    "pipe = pipeline(\"text-classification\", model=\"OU-Advacheck/deberta-v3-base-daigenc-mgt1a\")"
   ]
  },
  {
   "cell_type": "code",
   "execution_count": 3,
   "id": "57a9a662",
   "metadata": {},
   "outputs": [
    {
     "name": "stderr",
     "output_type": "stream",
     "text": [
      "Some weights of DebertaV2ForSequenceClassification were not initialized from the model checkpoint at OU-Advacheck/deberta-v3-base-daigenc-mgt1a and are newly initialized: ['classifier.bias', 'classifier.weight']\n",
      "You should probably TRAIN this model on a down-stream task to be able to use it for predictions and inference.\n"
     ]
    }
   ],
   "source": [
    "# Load model directly\n",
    "from transformers import AutoTokenizer, AutoModelForSequenceClassification\n",
    "\n",
    "tokenizer = AutoTokenizer.from_pretrained(\"OU-Advacheck/deberta-v3-base-daigenc-mgt1a\")\n",
    "model = AutoModelForSequenceClassification.from_pretrained(\"OU-Advacheck/deberta-v3-base-daigenc-mgt1a\")"
   ]
  },
  {
   "cell_type": "code",
   "execution_count": 218,
   "id": "718611ff",
   "metadata": {},
   "outputs": [],
   "source": [
    "texts_to_test = [\n",
    "\"\"\"data science is a very wiedly known tech field that is very popular in tech. it contains a lot of tools and skills such as data analysis, python programming, Databases, BI tools, machine learning, deep learning (neural networks, NLP, CV, Transformers). data science is very huge field that you cannot have an estimated time to finish it because every single day a new model is released which could make a big difference in the field\"\"\"\n",
    "]\n"
   ]
  },
  {
   "cell_type": "code",
   "execution_count": 219,
   "id": "5a4dcbd7",
   "metadata": {},
   "outputs": [],
   "source": [
    "inputs = tokenizer(texts_to_test, padding=True, truncation=True, return_tensors=\"pt\")"
   ]
  },
  {
   "cell_type": "code",
   "execution_count": 220,
   "id": "ac17b702",
   "metadata": {},
   "outputs": [],
   "source": [
    "import torch\n",
    "\n",
    "with torch.no_grad():\n",
    "    outputs = model(**inputs)  \n",
    "    probabilities = torch.sigmoid(outputs.logits).numpy()  # Convert to probabilities\n",
    "\n",
    "human_prob, ai_prob = probabilities[0]"
   ]
  },
  {
   "cell_type": "code",
   "execution_count": 221,
   "id": "27fc2ae8",
   "metadata": {},
   "outputs": [
    {
     "name": "stdout",
     "output_type": "stream",
     "text": [
      "Probabilities (human, machine): 0.5485823 0.6282117\n"
     ]
    }
   ],
   "source": [
    "print(\"Probabilities (human, machine):\", human_prob, ai_prob)"
   ]
  },
  {
   "cell_type": "code",
   "execution_count": 224,
   "id": "99dc6330",
   "metadata": {},
   "outputs": [],
   "source": [
    "# Simple thresholds for reliable detection\n",
    "THRESHOLD = 0.60           # Base threshold for probability\n",
    "MIN_DIFFERENCE = 0.10      # Minimum difference between probabilities to be confident\n",
    "\n",
    "# Calculate the difference between probabilities\n",
    "prob_difference = abs(human_prob - ai_prob)\n",
    "\n",
    "# Simple classification logic\n",
    "if prob_difference >= MIN_DIFFERENCE:\n",
    "    # Clear difference between probabilities\n",
    "    if ai_prob > human_prob and ai_prob > THRESHOLD:\n",
    "        label = \"AI\"\n",
    "        confidence = \"High\"\n",
    "    elif human_prob > ai_prob and human_prob > THRESHOLD:\n",
    "        label = \"Human\"\n",
    "        confidence = \"High\"\n",
    "    else:\n",
    "        # One is clearly higher but below threshold\n",
    "        label = \"AI\" if ai_prob > human_prob else \"Human\"\n",
    "        confidence = \"Medium\"\n",
    "else:\n",
    "    # Close probabilities - use higher value but mark as low confidence\n",
    "    if max(ai_prob, human_prob) > THRESHOLD:\n",
    "        label = \"AI\" if ai_prob > human_prob else \"Human\"\n",
    "        confidence = \"Low\"\n",
    "    else:\n",
    "        label = \"Uncertain\"\n",
    "        confidence = \"Very Low\"\n",
    "\n",
    "# Calculate confidence score for display\n",
    "confidence_score = (prob_difference / max(ai_prob, human_prob)) * 100\n",
    "\n",
    "if confidence == 'Low' or confidence == 'Very Low':\n",
    "    if label == 'AI':\n",
    "        label = 'Human'\n",
    "        confidence = 'Medium'\n",
    "    else:\n",
    "        label = 'AI'\n",
    "        confidence = 'Medium'\n"
   ]
  },
  {
   "cell_type": "code",
   "execution_count": 225,
   "id": "0fecf4f7",
   "metadata": {},
   "outputs": [
    {
     "name": "stdout",
     "output_type": "stream",
     "text": [
      "Detection Results\n",
      "----------------------------------------\n",
      "Human Probability: 54.9%\n",
      "AI Probability: 62.8%\n",
      "Difference: 8.0%\n",
      "----------------------------------------\n",
      "Classification: Human\n",
      "Confidence: Medium\n",
      "Confidence Score: 12.7%\n"
     ]
    }
   ],
   "source": [
    "print(f\"Detection Results\")\n",
    "print(f\"{'-'*40}\")\n",
    "print(f\"Human Probability: {human_prob:.1%}\")\n",
    "print(f\"AI Probability: {ai_prob:.1%}\")\n",
    "print(f\"Difference: {prob_difference:.1%}\")\n",
    "print(f\"{'-'*40}\")\n",
    "print(f\"Classification: {label}\")\n",
    "print(f\"Confidence: {confidence}\")\n",
    "print(f\"Confidence Score: {confidence_score:.1f}%\")"
   ]
  }
 ],
 "metadata": {
  "kernelspec": {
   "display_name": "bert_env",
   "language": "python",
   "name": "python3"
  },
  "language_info": {
   "codemirror_mode": {
    "name": "ipython",
    "version": 3
   },
   "file_extension": ".py",
   "mimetype": "text/x-python",
   "name": "python",
   "nbconvert_exporter": "python",
   "pygments_lexer": "ipython3",
   "version": "3.9.21"
  }
 },
 "nbformat": 4,
 "nbformat_minor": 5
}
